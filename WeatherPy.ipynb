{
 "cells": [
  {
   "cell_type": "code",
   "execution_count": 1,
   "metadata": {},
   "outputs": [],
   "source": [
    "import pandas as pd\n",
    "import numpy as np\n",
    "import random\n",
    "from citipy import citipy\n",
    "import timeit\n",
    "import requests\n",
    "from config import api_key"
   ]
  },
  {
   "cell_type": "code",
   "execution_count": 2,
   "metadata": {},
   "outputs": [
    {
     "data": {
      "text/plain": [
       "<zip at 0x7ff949574240>"
      ]
     },
     "execution_count": 2,
     "metadata": {},
     "output_type": "execute_result"
    }
   ],
   "source": [
    "lats=np.random.uniform(-90.000,90.000, size=1500)\n",
    "lngs=np.random.uniform(-180.000,180.000, size=1500)\n",
    "lat_lngs=zip(lats,lngs)\n",
    "lat_lngs"
   ]
  },
  {
   "cell_type": "code",
   "execution_count": 3,
   "metadata": {
    "scrolled": true
   },
   "outputs": [
    {
     "data": {
      "text/plain": [
       "1500"
      ]
     },
     "execution_count": 3,
     "metadata": {},
     "output_type": "execute_result"
    }
   ],
   "source": [
    "coordinates = list(lat_lngs)\n",
    "len(coordinates)"
   ]
  },
  {
   "cell_type": "code",
   "execution_count": 4,
   "metadata": {},
   "outputs": [
    {
     "data": {
      "text/plain": [
       "'http://api.openweathermap.org/data/2.5/weather?appid=58bf6497f87428e2ca65f32a4e8f8b81&q=London'"
      ]
     },
     "execution_count": 4,
     "metadata": {},
     "output_type": "execute_result"
    }
   ],
   "source": [
    "city=\"London\"\n",
    "url=\"http://api.openweathermap.org/data/2.5/weather?\"\n",
    "query_url= url + \"appid=\" + api_key + \"&q=\" + city\n",
    "query_url"
   ]
  },
  {
   "cell_type": "code",
   "execution_count": 5,
   "metadata": {},
   "outputs": [
    {
     "name": "stdout",
     "output_type": "stream",
     "text": [
      "<Response [200]>\n"
     ]
    },
    {
     "data": {
      "text/plain": [
       "{'coord': {'lon': -0.1257, 'lat': 51.5085},\n",
       " 'weather': [{'id': 800,\n",
       "   'main': 'Clear',\n",
       "   'description': 'clear sky',\n",
       "   'icon': '01n'}],\n",
       " 'base': 'stations',\n",
       " 'main': {'temp': 290.97,\n",
       "  'feels_like': 290.87,\n",
       "  'temp_min': 287.99,\n",
       "  'temp_max': 293.13,\n",
       "  'pressure': 1027,\n",
       "  'humidity': 79},\n",
       " 'visibility': 10000,\n",
       " 'wind': {'speed': 1.03, 'deg': 0},\n",
       " 'clouds': {'all': 0},\n",
       " 'dt': 1626565805,\n",
       " 'sys': {'type': 2,\n",
       "  'id': 2006068,\n",
       "  'country': 'GB',\n",
       "  'sunrise': 1626581075,\n",
       "  'sunset': 1626638909},\n",
       " 'timezone': 3600,\n",
       " 'id': 2643743,\n",
       " 'name': 'London',\n",
       " 'cod': 200}"
      ]
     },
     "execution_count": 5,
     "metadata": {},
     "output_type": "execute_result"
    }
   ],
   "source": [
    "resp= requests.get(query_url)\n",
    "print(resp)\n",
    "resp.json()"
   ]
  },
  {
   "cell_type": "code",
   "execution_count": 6,
   "metadata": {},
   "outputs": [
    {
     "name": "stdout",
     "output_type": "stream",
     "text": [
      "1500\n"
     ]
    }
   ],
   "source": [
    "cities=[]\n",
    "for coordinate in coordinates:\n",
    "    city=citipy.nearest_city(coordinate[0],coordinate[1]).city_name\n",
    "    cities.append(city)\n",
    "print(len(cities))"
   ]
  },
  {
   "cell_type": "code",
   "execution_count": 20,
   "metadata": {},
   "outputs": [
    {
     "name": "stdout",
     "output_type": "stream",
     "text": [
      "[{'City': 'Waipawa', 'Lat': -41.4122, 'Lng': 175.5153, 'Max Temp': 286.5, 'Humidity': 75, 'Cloudiness': 100, 'Wind Speed': 6.5, 'Country': 'NZ', 'Date': '2021-07-18 00:42:06'}, {'City': 'Krutinka', 'Lat': 56.0055, 'Lng': 71.5113, 'Max Temp': 285.16, 'Humidity': 87, 'Cloudiness': 44, 'Wind Speed': 3.14, 'Country': 'RU', 'Date': '2021-07-18 00:42:07'}, {'City': 'Mataura', 'Lat': -46.1927, 'Lng': 168.8643, 'Max Temp': 280.64, 'Humidity': 93, 'Cloudiness': 100, 'Wind Speed': 0.56, 'Country': 'NZ', 'Date': '2021-07-18 00:42:07'}, {'City': 'East London', 'Lat': -33.0153, 'Lng': 27.9116, 'Max Temp': 286.64, 'Humidity': 55, 'Cloudiness': 0, 'Wind Speed': 2.88, 'Country': 'ZA', 'Date': '2021-07-18 00:42:15'}, {'City': 'Rikitea', 'Lat': -23.1203, 'Lng': -134.9692, 'Max Temp': 295.15, 'Humidity': 73, 'Cloudiness': 100, 'Wind Speed': 12.03, 'Country': 'PF', 'Date': '2021-07-18 00:42:15'}, {'City': 'Ferme-Neuve', 'Lat': 46.7001, 'Lng': -75.4493, 'Max Temp': 295.03, 'Humidity': 87, 'Cloudiness': 100, 'Wind Speed': 0.45, 'Country': 'CA', 'Date': '2021-07-18 00:42:08'}, {'City': 'Chara', 'Lat': 56.9064, 'Lng': 118.2631, 'Max Temp': 297.9, 'Humidity': 48, 'Cloudiness': 73, 'Wind Speed': 1.3, 'Country': 'RU', 'Date': '2021-07-18 00:42:16'}, {'City': 'Bengkulu', 'Lat': -3.8004, 'Lng': 102.2655, 'Max Temp': 298.68, 'Humidity': 82, 'Cloudiness': 78, 'Wind Speed': 1.6, 'Country': 'ID', 'Date': '2021-07-18 00:42:09'}, {'City': 'Hermanus', 'Lat': -34.4187, 'Lng': 19.2345, 'Max Temp': 285.82, 'Humidity': 84, 'Cloudiness': 6, 'Wind Speed': 4.34, 'Country': 'ZA', 'Date': '2021-07-18 00:42:09'}, {'City': 'Albany', 'Lat': 42.6001, 'Lng': -73.9662, 'Max Temp': 295.52, 'Humidity': 94, 'Cloudiness': 100, 'Wind Speed': 1.25, 'Country': 'US', 'Date': '2021-07-18 00:38:30'}, {'City': 'Norman Wells', 'Lat': 65.282, 'Lng': -126.8329, 'Max Temp': 299.17, 'Humidity': 21, 'Cloudiness': 20, 'Wind Speed': 4.12, 'Country': 'CA', 'Date': '2021-07-18 00:42:09'}]\n"
     ]
    }
   ],
   "source": [
    "# from datetime import datetime\n",
    "# city_data = []\n",
    "# selected_cities=cities[100:111]\n",
    "# for city in selected_cities:\n",
    "# #     print(city)\n",
    "#     url=\"http://api.openweathermap.org/data/2.5/weather?\"\n",
    "#     query_url= url + \"appid=\" + api_key + \"&q=\" + city\n",
    "#     resps=requests.get(query_url).json()\n",
    "# #     print(resps)\n",
    "#     try:\n",
    "# #         print(resps[\"weather\"][0][\"main\"])\n",
    "#         country = resps[\"sys\"][\"country\"]\n",
    "#         lat = resps[\"coord\"][\"lat\"]\n",
    "#         lng = resps[\"coord\"][\"lon\"]\n",
    "#         max_temp = resps[\"main\"][\"temp_max\"]\n",
    "#         humidity = resps[\"main\"][\"humidity\"]\n",
    "#         clouds = resps[\"clouds\"][\"all\"]\n",
    "#         wind = resps[\"wind\"][\"speed\"]\n",
    "#         date = resps[\"dt\"]\n",
    "#         city_date=datetime.utcfromtimestamp(date).strftime('%Y-%m-%d %H:%M:%S')\n",
    "#         city_data.append({\"City\": city.title(),\n",
    "#                           \"Lat\": lat,\n",
    "#                           \"Lng\": lng,\n",
    "#                           \"Max Temp\": max_temp,\n",
    "#                           \"Humidity\": humidity,\n",
    "#                           \"Cloudiness\": clouds,\n",
    "#                           \"Wind Speed\": wind,\n",
    "#                           \"Country\": country,\n",
    "#                           \"Date\": city_date})       \n",
    "#     except KeyError:\n",
    "#         print(None)\n",
    "        \n",
    "# print(city_data)"
   ]
  },
  {
   "cell_type": "code",
   "execution_count": 18,
   "metadata": {},
   "outputs": [
    {
     "data": {
      "text/plain": [
       "'2021-07-18 00:05:05'"
      ]
     },
     "execution_count": 18,
     "metadata": {},
     "output_type": "execute_result"
    }
   ],
   "source": [
    "# Convert the UTC date to a date format with year, month, day, hours, minutes, and seconds.\n",
    "from datetime import datetime\n",
    "datetime.utcfromtimestamp(date).strftime('%Y-%m-%d %H:%M:%S')"
   ]
  },
  {
   "cell_type": "code",
   "execution_count": 22,
   "metadata": {},
   "outputs": [
    {
     "data": {
      "text/html": [
       "<div>\n",
       "<style scoped>\n",
       "    .dataframe tbody tr th:only-of-type {\n",
       "        vertical-align: middle;\n",
       "    }\n",
       "\n",
       "    .dataframe tbody tr th {\n",
       "        vertical-align: top;\n",
       "    }\n",
       "\n",
       "    .dataframe thead th {\n",
       "        text-align: right;\n",
       "    }\n",
       "</style>\n",
       "<table border=\"1\" class=\"dataframe\">\n",
       "  <thead>\n",
       "    <tr style=\"text-align: right;\">\n",
       "      <th></th>\n",
       "      <th>City</th>\n",
       "      <th>Lat</th>\n",
       "      <th>Lng</th>\n",
       "      <th>Max Temp</th>\n",
       "      <th>Humidity</th>\n",
       "      <th>Cloudiness</th>\n",
       "      <th>Wind Speed</th>\n",
       "      <th>Country</th>\n",
       "      <th>Date</th>\n",
       "    </tr>\n",
       "  </thead>\n",
       "  <tbody>\n",
       "    <tr>\n",
       "      <th>0</th>\n",
       "      <td>Hermanus</td>\n",
       "      <td>-34.4187</td>\n",
       "      <td>19.2345</td>\n",
       "      <td>285.82</td>\n",
       "      <td>84</td>\n",
       "      <td>6</td>\n",
       "      <td>4.34</td>\n",
       "      <td>ZA</td>\n",
       "      <td>2021-07-18 00:42:09</td>\n",
       "    </tr>\n",
       "    <tr>\n",
       "      <th>1</th>\n",
       "      <td>Akyab</td>\n",
       "      <td>20.1500</td>\n",
       "      <td>92.9000</td>\n",
       "      <td>300.87</td>\n",
       "      <td>80</td>\n",
       "      <td>41</td>\n",
       "      <td>1.49</td>\n",
       "      <td>MM</td>\n",
       "      <td>2021-07-18 00:44:51</td>\n",
       "    </tr>\n",
       "    <tr>\n",
       "      <th>2</th>\n",
       "      <td>Ankazoabo</td>\n",
       "      <td>-22.2833</td>\n",
       "      <td>44.5167</td>\n",
       "      <td>289.85</td>\n",
       "      <td>64</td>\n",
       "      <td>6</td>\n",
       "      <td>2.29</td>\n",
       "      <td>MG</td>\n",
       "      <td>2021-07-18 00:44:51</td>\n",
       "    </tr>\n",
       "    <tr>\n",
       "      <th>3</th>\n",
       "      <td>Cam Ranh</td>\n",
       "      <td>11.9214</td>\n",
       "      <td>109.1591</td>\n",
       "      <td>301.13</td>\n",
       "      <td>74</td>\n",
       "      <td>20</td>\n",
       "      <td>0.51</td>\n",
       "      <td>VN</td>\n",
       "      <td>2021-07-18 00:44:51</td>\n",
       "    </tr>\n",
       "    <tr>\n",
       "      <th>4</th>\n",
       "      <td>Hermanus</td>\n",
       "      <td>-34.4187</td>\n",
       "      <td>19.2345</td>\n",
       "      <td>285.82</td>\n",
       "      <td>84</td>\n",
       "      <td>6</td>\n",
       "      <td>4.34</td>\n",
       "      <td>ZA</td>\n",
       "      <td>2021-07-18 00:42:09</td>\n",
       "    </tr>\n",
       "    <tr>\n",
       "      <th>5</th>\n",
       "      <td>Geraldton</td>\n",
       "      <td>-28.7667</td>\n",
       "      <td>114.6000</td>\n",
       "      <td>285.38</td>\n",
       "      <td>87</td>\n",
       "      <td>0</td>\n",
       "      <td>4.63</td>\n",
       "      <td>AU</td>\n",
       "      <td>2021-07-18 00:44:52</td>\n",
       "    </tr>\n",
       "    <tr>\n",
       "      <th>6</th>\n",
       "      <td>Bengkulu</td>\n",
       "      <td>-3.8004</td>\n",
       "      <td>102.2655</td>\n",
       "      <td>298.68</td>\n",
       "      <td>82</td>\n",
       "      <td>78</td>\n",
       "      <td>1.60</td>\n",
       "      <td>ID</td>\n",
       "      <td>2021-07-18 00:42:09</td>\n",
       "    </tr>\n",
       "    <tr>\n",
       "      <th>7</th>\n",
       "      <td>Puerto Ayora</td>\n",
       "      <td>-0.7393</td>\n",
       "      <td>-90.3518</td>\n",
       "      <td>295.12</td>\n",
       "      <td>93</td>\n",
       "      <td>94</td>\n",
       "      <td>2.68</td>\n",
       "      <td>EC</td>\n",
       "      <td>2021-07-18 00:44:52</td>\n",
       "    </tr>\n",
       "    <tr>\n",
       "      <th>8</th>\n",
       "      <td>Tasiilaq</td>\n",
       "      <td>65.6145</td>\n",
       "      <td>-37.6368</td>\n",
       "      <td>279.24</td>\n",
       "      <td>78</td>\n",
       "      <td>100</td>\n",
       "      <td>2.03</td>\n",
       "      <td>GL</td>\n",
       "      <td>2021-07-18 00:44:52</td>\n",
       "    </tr>\n",
       "    <tr>\n",
       "      <th>9</th>\n",
       "      <td>Bredasdorp</td>\n",
       "      <td>-34.5322</td>\n",
       "      <td>20.0403</td>\n",
       "      <td>285.53</td>\n",
       "      <td>87</td>\n",
       "      <td>7</td>\n",
       "      <td>0.00</td>\n",
       "      <td>ZA</td>\n",
       "      <td>2021-07-18 00:44:52</td>\n",
       "    </tr>\n",
       "  </tbody>\n",
       "</table>\n",
       "</div>"
      ],
      "text/plain": [
       "           City      Lat       Lng  Max Temp  Humidity  Cloudiness  \\\n",
       "0      Hermanus -34.4187   19.2345    285.82        84           6   \n",
       "1         Akyab  20.1500   92.9000    300.87        80          41   \n",
       "2     Ankazoabo -22.2833   44.5167    289.85        64           6   \n",
       "3      Cam Ranh  11.9214  109.1591    301.13        74          20   \n",
       "4      Hermanus -34.4187   19.2345    285.82        84           6   \n",
       "5     Geraldton -28.7667  114.6000    285.38        87           0   \n",
       "6      Bengkulu  -3.8004  102.2655    298.68        82          78   \n",
       "7  Puerto Ayora  -0.7393  -90.3518    295.12        93          94   \n",
       "8      Tasiilaq  65.6145  -37.6368    279.24        78         100   \n",
       "9    Bredasdorp -34.5322   20.0403    285.53        87           7   \n",
       "\n",
       "   Wind Speed Country                 Date  \n",
       "0        4.34      ZA  2021-07-18 00:42:09  \n",
       "1        1.49      MM  2021-07-18 00:44:51  \n",
       "2        2.29      MG  2021-07-18 00:44:51  \n",
       "3        0.51      VN  2021-07-18 00:44:51  \n",
       "4        4.34      ZA  2021-07-18 00:42:09  \n",
       "5        4.63      AU  2021-07-18 00:44:52  \n",
       "6        1.60      ID  2021-07-18 00:42:09  \n",
       "7        2.68      EC  2021-07-18 00:44:52  \n",
       "8        2.03      GL  2021-07-18 00:44:52  \n",
       "9        0.00      ZA  2021-07-18 00:44:52  "
      ]
     },
     "execution_count": 22,
     "metadata": {},
     "output_type": "execute_result"
    }
   ],
   "source": [
    "from datetime import datetime\n",
    "city_data = []\n",
    "for city in cities:\n",
    "#     print(city)\n",
    "    url=\"http://api.openweathermap.org/data/2.5/weather?\"\n",
    "    query_url= url + \"appid=\" + api_key + \"&q=\" + city\n",
    "    resps=requests.get(query_url).json()\n",
    "#     print(resps)\n",
    "    try:\n",
    "#         print(resps[\"weather\"][0][\"main\"])\n",
    "        country = resps[\"sys\"][\"country\"]\n",
    "        lat = resps[\"coord\"][\"lat\"]\n",
    "        lng = resps[\"coord\"][\"lon\"]\n",
    "        max_temp = resps[\"main\"][\"temp_max\"]\n",
    "        humidity = resps[\"main\"][\"humidity\"]\n",
    "        clouds = resps[\"clouds\"][\"all\"]\n",
    "        wind = resps[\"wind\"][\"speed\"]\n",
    "        date = resps[\"dt\"]\n",
    "        city_date=datetime.utcfromtimestamp(date).strftime('%Y-%m-%d %H:%M:%S')\n",
    "        city_data.append({\"City\": city.title(),\n",
    "                          \"Lat\": lat,\n",
    "                          \"Lng\": lng,\n",
    "                          \"Max Temp\": max_temp,\n",
    "                          \"Humidity\": humidity,\n",
    "                          \"Cloudiness\": clouds,\n",
    "                          \"Wind Speed\": wind,\n",
    "                          \"Country\": country,\n",
    "                          \"Date\": city_date})       \n",
    "    except KeyError:\n",
    "        pass \n",
    "\n",
    "city_data_df = pd.DataFrame(city_data)\n",
    "city_data_df.head(10)       "
   ]
  },
  {
   "cell_type": "code",
   "execution_count": 24,
   "metadata": {},
   "outputs": [
    {
     "name": "stdout",
     "output_type": "stream",
     "text": [
      "<class 'pandas.core.frame.DataFrame'>\n",
      "RangeIndex: 1377 entries, 0 to 1376\n",
      "Data columns (total 9 columns):\n",
      " #   Column      Non-Null Count  Dtype  \n",
      "---  ------      --------------  -----  \n",
      " 0   City        1377 non-null   object \n",
      " 1   Lat         1377 non-null   float64\n",
      " 2   Lng         1377 non-null   float64\n",
      " 3   Max Temp    1377 non-null   float64\n",
      " 4   Humidity    1377 non-null   int64  \n",
      " 5   Cloudiness  1377 non-null   int64  \n",
      " 6   Wind Speed  1377 non-null   float64\n",
      " 7   Country     1377 non-null   object \n",
      " 8   Date        1377 non-null   object \n",
      "dtypes: float64(4), int64(2), object(3)\n",
      "memory usage: 96.9+ KB\n"
     ]
    }
   ],
   "source": [
    "city_data_df.info()"
   ]
  },
  {
   "cell_type": "code",
   "execution_count": 26,
   "metadata": {},
   "outputs": [
    {
     "data": {
      "text/html": [
       "<div>\n",
       "<style scoped>\n",
       "    .dataframe tbody tr th:only-of-type {\n",
       "        vertical-align: middle;\n",
       "    }\n",
       "\n",
       "    .dataframe tbody tr th {\n",
       "        vertical-align: top;\n",
       "    }\n",
       "\n",
       "    .dataframe thead th {\n",
       "        text-align: right;\n",
       "    }\n",
       "</style>\n",
       "<table border=\"1\" class=\"dataframe\">\n",
       "  <thead>\n",
       "    <tr style=\"text-align: right;\">\n",
       "      <th></th>\n",
       "      <th>City</th>\n",
       "      <th>Country</th>\n",
       "      <th>Date</th>\n",
       "      <th>Lat</th>\n",
       "      <th>Lng</th>\n",
       "      <th>Max Temp</th>\n",
       "      <th>Humidity</th>\n",
       "      <th>Cloudiness</th>\n",
       "      <th>Wind Speed</th>\n",
       "    </tr>\n",
       "  </thead>\n",
       "  <tbody>\n",
       "    <tr>\n",
       "      <th>0</th>\n",
       "      <td>Hermanus</td>\n",
       "      <td>ZA</td>\n",
       "      <td>2021-07-18 00:42:09</td>\n",
       "      <td>-34.4187</td>\n",
       "      <td>19.2345</td>\n",
       "      <td>285.82</td>\n",
       "      <td>84</td>\n",
       "      <td>6</td>\n",
       "      <td>4.34</td>\n",
       "    </tr>\n",
       "    <tr>\n",
       "      <th>1</th>\n",
       "      <td>Akyab</td>\n",
       "      <td>MM</td>\n",
       "      <td>2021-07-18 00:44:51</td>\n",
       "      <td>20.1500</td>\n",
       "      <td>92.9000</td>\n",
       "      <td>300.87</td>\n",
       "      <td>80</td>\n",
       "      <td>41</td>\n",
       "      <td>1.49</td>\n",
       "    </tr>\n",
       "    <tr>\n",
       "      <th>2</th>\n",
       "      <td>Ankazoabo</td>\n",
       "      <td>MG</td>\n",
       "      <td>2021-07-18 00:44:51</td>\n",
       "      <td>-22.2833</td>\n",
       "      <td>44.5167</td>\n",
       "      <td>289.85</td>\n",
       "      <td>64</td>\n",
       "      <td>6</td>\n",
       "      <td>2.29</td>\n",
       "    </tr>\n",
       "    <tr>\n",
       "      <th>3</th>\n",
       "      <td>Cam Ranh</td>\n",
       "      <td>VN</td>\n",
       "      <td>2021-07-18 00:44:51</td>\n",
       "      <td>11.9214</td>\n",
       "      <td>109.1591</td>\n",
       "      <td>301.13</td>\n",
       "      <td>74</td>\n",
       "      <td>20</td>\n",
       "      <td>0.51</td>\n",
       "    </tr>\n",
       "    <tr>\n",
       "      <th>4</th>\n",
       "      <td>Hermanus</td>\n",
       "      <td>ZA</td>\n",
       "      <td>2021-07-18 00:42:09</td>\n",
       "      <td>-34.4187</td>\n",
       "      <td>19.2345</td>\n",
       "      <td>285.82</td>\n",
       "      <td>84</td>\n",
       "      <td>6</td>\n",
       "      <td>4.34</td>\n",
       "    </tr>\n",
       "  </tbody>\n",
       "</table>\n",
       "</div>"
      ],
      "text/plain": [
       "        City Country                 Date      Lat       Lng  Max Temp  \\\n",
       "0   Hermanus      ZA  2021-07-18 00:42:09 -34.4187   19.2345    285.82   \n",
       "1      Akyab      MM  2021-07-18 00:44:51  20.1500   92.9000    300.87   \n",
       "2  Ankazoabo      MG  2021-07-18 00:44:51 -22.2833   44.5167    289.85   \n",
       "3   Cam Ranh      VN  2021-07-18 00:44:51  11.9214  109.1591    301.13   \n",
       "4   Hermanus      ZA  2021-07-18 00:42:09 -34.4187   19.2345    285.82   \n",
       "\n",
       "   Humidity  Cloudiness  Wind Speed  \n",
       "0        84           6        4.34  \n",
       "1        80          41        1.49  \n",
       "2        64           6        2.29  \n",
       "3        74          20        0.51  \n",
       "4        84           6        4.34  "
      ]
     },
     "execution_count": 26,
     "metadata": {},
     "output_type": "execute_result"
    }
   ],
   "source": [
    "new_columns_order=[\"City\",\"Country\",\"Date\",\"Lat\",\"Lng\",\"Max Temp\",\"Humidity\",\"Cloudiness\",\"Wind Speed\"]\n",
    "city_data_df=city_data_df[new_columns_order]\n",
    "city_data_df.head()"
   ]
  },
  {
   "cell_type": "code",
   "execution_count": 29,
   "metadata": {},
   "outputs": [],
   "source": [
    "output_data_file = \"./cities.csv\"\n",
    "city_data_df.to_csv(output_data_file, index_label=\"City_ID\")"
   ]
  },
  {
   "cell_type": "code",
   "execution_count": null,
   "metadata": {},
   "outputs": [],
   "source": []
  }
 ],
 "metadata": {
  "kernelspec": {
   "display_name": "pydate",
   "language": "python",
   "name": "pydate"
  },
  "language_info": {
   "codemirror_mode": {
    "name": "ipython",
    "version": 3
   },
   "file_extension": ".py",
   "mimetype": "text/x-python",
   "name": "python",
   "nbconvert_exporter": "python",
   "pygments_lexer": "ipython3",
   "version": "3.8.10"
  }
 },
 "nbformat": 4,
 "nbformat_minor": 4
}
