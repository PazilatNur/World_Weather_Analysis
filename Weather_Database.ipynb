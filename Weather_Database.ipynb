{
 "cells": [
  {
   "cell_type": "code",
   "execution_count": 1,
   "metadata": {},
   "outputs": [],
   "source": [
    "import pandas as pd\n",
    "import numpy as np\n",
    "import random\n",
    "import timeit\n",
    "import requests\n",
    "from citipy import citipy\n",
    "from config import api_key"
   ]
  },
  {
   "cell_type": "code",
   "execution_count": 2,
   "metadata": {},
   "outputs": [
    {
     "data": {
      "text/plain": [
       "<zip at 0x7fc4285a3c00>"
      ]
     },
     "execution_count": 2,
     "metadata": {},
     "output_type": "execute_result"
    }
   ],
   "source": [
    "lats=np.random.uniform(-90.000,90.000, size=2000)\n",
    "lngs=np.random.uniform(-180.000,180.000, size=2000)\n",
    "lat_lngs=zip(lats,lngs)\n",
    "lat_lngs"
   ]
  },
  {
   "cell_type": "code",
   "execution_count": 3,
   "metadata": {},
   "outputs": [],
   "source": [
    "coordinates=list(lat_lngs)"
   ]
  },
  {
   "cell_type": "code",
   "execution_count": 4,
   "metadata": {},
   "outputs": [],
   "source": [
    "cities_list=[]\n",
    "for coordinate in coordinates:\n",
    "    city=citipy.nearest_city(coordinate[0],coordinate[1]).city_name\n",
    "    cities_list.append(city)"
   ]
  },
  {
   "cell_type": "code",
   "execution_count": 5,
   "metadata": {},
   "outputs": [],
   "source": [
    "# url=\"http://api.openweathermap.org/data/2.5/weather?\"\n",
    "# query_url= url + \"appid=\" + api_key + \"&q=\" + \"New York\"\n",
    "# resps=requests.get(query_url).json()\n",
    "# weather=resps[\"weather\"][0][\"main\"]\n",
    "# print(weather)"
   ]
  },
  {
   "cell_type": "code",
   "execution_count": 6,
   "metadata": {},
   "outputs": [
    {
     "data": {
      "text/html": [
       "<div>\n",
       "<style scoped>\n",
       "    .dataframe tbody tr th:only-of-type {\n",
       "        vertical-align: middle;\n",
       "    }\n",
       "\n",
       "    .dataframe tbody tr th {\n",
       "        vertical-align: top;\n",
       "    }\n",
       "\n",
       "    .dataframe thead th {\n",
       "        text-align: right;\n",
       "    }\n",
       "</style>\n",
       "<table border=\"1\" class=\"dataframe\">\n",
       "  <thead>\n",
       "    <tr style=\"text-align: right;\">\n",
       "      <th></th>\n",
       "      <th>City</th>\n",
       "      <th>Country</th>\n",
       "      <th>Lat</th>\n",
       "      <th>Lng</th>\n",
       "      <th>Max Temp</th>\n",
       "      <th>Humidity</th>\n",
       "      <th>Cloudiness</th>\n",
       "      <th>Wind Speed</th>\n",
       "      <th>Weather Description</th>\n",
       "    </tr>\n",
       "  </thead>\n",
       "  <tbody>\n",
       "    <tr>\n",
       "      <th>0</th>\n",
       "      <td>Hobart</td>\n",
       "      <td>AU</td>\n",
       "      <td>-42.8794</td>\n",
       "      <td>147.3294</td>\n",
       "      <td>280.99</td>\n",
       "      <td>81</td>\n",
       "      <td>75</td>\n",
       "      <td>1.34</td>\n",
       "      <td>Clouds</td>\n",
       "    </tr>\n",
       "    <tr>\n",
       "      <th>1</th>\n",
       "      <td>Albany</td>\n",
       "      <td>US</td>\n",
       "      <td>42.6001</td>\n",
       "      <td>-73.9662</td>\n",
       "      <td>298.47</td>\n",
       "      <td>57</td>\n",
       "      <td>45</td>\n",
       "      <td>2.72</td>\n",
       "      <td>Clouds</td>\n",
       "    </tr>\n",
       "    <tr>\n",
       "      <th>2</th>\n",
       "      <td>Kapaa</td>\n",
       "      <td>US</td>\n",
       "      <td>22.0752</td>\n",
       "      <td>-159.3190</td>\n",
       "      <td>301.33</td>\n",
       "      <td>77</td>\n",
       "      <td>90</td>\n",
       "      <td>1.79</td>\n",
       "      <td>Rain</td>\n",
       "    </tr>\n",
       "    <tr>\n",
       "      <th>3</th>\n",
       "      <td>Ushuaia</td>\n",
       "      <td>AR</td>\n",
       "      <td>-54.8000</td>\n",
       "      <td>-68.3000</td>\n",
       "      <td>275.96</td>\n",
       "      <td>81</td>\n",
       "      <td>40</td>\n",
       "      <td>4.12</td>\n",
       "      <td>Clouds</td>\n",
       "    </tr>\n",
       "    <tr>\n",
       "      <th>4</th>\n",
       "      <td>Inuvik</td>\n",
       "      <td>CA</td>\n",
       "      <td>68.3499</td>\n",
       "      <td>-133.7218</td>\n",
       "      <td>291.63</td>\n",
       "      <td>72</td>\n",
       "      <td>20</td>\n",
       "      <td>3.09</td>\n",
       "      <td>Clouds</td>\n",
       "    </tr>\n",
       "  </tbody>\n",
       "</table>\n",
       "</div>"
      ],
      "text/plain": [
       "      City Country      Lat       Lng  Max Temp  Humidity  Cloudiness  \\\n",
       "0   Hobart      AU -42.8794  147.3294    280.99        81          75   \n",
       "1   Albany      US  42.6001  -73.9662    298.47        57          45   \n",
       "2    Kapaa      US  22.0752 -159.3190    301.33        77          90   \n",
       "3  Ushuaia      AR -54.8000  -68.3000    275.96        81          40   \n",
       "4   Inuvik      CA  68.3499 -133.7218    291.63        72          20   \n",
       "\n",
       "   Wind Speed Weather Description  \n",
       "0        1.34              Clouds  \n",
       "1        2.72              Clouds  \n",
       "2        1.79                Rain  \n",
       "3        4.12              Clouds  \n",
       "4        3.09              Clouds  "
      ]
     },
     "execution_count": 6,
     "metadata": {},
     "output_type": "execute_result"
    }
   ],
   "source": [
    "city_data = []\n",
    "for city in cities_list:\n",
    "#     print(city)\n",
    "    url=\"http://api.openweathermap.org/data/2.5/weather?\"\n",
    "    query_url= url + \"appid=\" + api_key + \"&q=\" + city\n",
    "    resps=requests.get(query_url).json()\n",
    "#     print(resps)\n",
    "    try:\n",
    "#         print(resps[\"weather\"][0][\"main\"])\n",
    "        country = resps[\"sys\"][\"country\"]\n",
    "        lat = resps[\"coord\"][\"lat\"]\n",
    "        lng = resps[\"coord\"][\"lon\"]\n",
    "        max_temp = resps[\"main\"][\"temp_max\"]\n",
    "        humidity = resps[\"main\"][\"humidity\"]\n",
    "        clouds = resps[\"clouds\"][\"all\"]\n",
    "        wind = resps[\"wind\"][\"speed\"]\n",
    "        weather_descri=resps[\"weather\"][0][\"main\"]\n",
    "        city_data.append({\"City\": city.title(),\n",
    "                          \"Country\": country,\n",
    "                          \"Lat\": lat,\n",
    "                          \"Lng\": lng,\n",
    "                          \"Max Temp\": max_temp,\n",
    "                          \"Humidity\": humidity,\n",
    "                          \"Cloudiness\": clouds,\n",
    "                          \"Wind Speed\": wind,\n",
    "                          \"Weather Description\": weather_descri\n",
    "                         })       \n",
    "    except KeyError:\n",
    "        pass \n",
    "    \n",
    "    \n",
    "weather_data_df=pd.DataFrame(city_data)\n",
    "weather_data_df.head()"
   ]
  },
  {
   "cell_type": "code",
   "execution_count": 7,
   "metadata": {},
   "outputs": [],
   "source": [
    "output_data_file = \"./Weather_Data.csv\"\n",
    "weather_data_df.to_csv(output_data_file, index_label=\"City_ID\")"
   ]
  },
  {
   "cell_type": "code",
   "execution_count": null,
   "metadata": {},
   "outputs": [],
   "source": []
  },
  {
   "cell_type": "code",
   "execution_count": null,
   "metadata": {},
   "outputs": [],
   "source": []
  },
  {
   "cell_type": "code",
   "execution_count": null,
   "metadata": {},
   "outputs": [],
   "source": []
  },
  {
   "cell_type": "code",
   "execution_count": null,
   "metadata": {},
   "outputs": [],
   "source": []
  },
  {
   "cell_type": "code",
   "execution_count": null,
   "metadata": {},
   "outputs": [],
   "source": []
  },
  {
   "cell_type": "code",
   "execution_count": null,
   "metadata": {},
   "outputs": [],
   "source": []
  }
 ],
 "metadata": {
  "kernelspec": {
   "display_name": "Python 3",
   "language": "python",
   "name": "python3"
  },
  "language_info": {
   "codemirror_mode": {
    "name": "ipython",
    "version": 3
   },
   "file_extension": ".py",
   "mimetype": "text/x-python",
   "name": "python",
   "nbconvert_exporter": "python",
   "pygments_lexer": "ipython3",
   "version": "3.8.5"
  }
 },
 "nbformat": 4,
 "nbformat_minor": 4
}
