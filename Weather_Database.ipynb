{
 "cells": [
  {
   "cell_type": "code",
   "execution_count": 1,
   "metadata": {},
   "outputs": [],
   "source": [
    "import pandas as pd\n",
    "import numpy as np\n",
    "import random\n",
    "import timeit\n",
    "import requests\n",
    "from citipy import citipy\n",
    "from config import api_key"
   ]
  },
  {
   "cell_type": "code",
   "execution_count": 2,
   "metadata": {},
   "outputs": [
    {
     "data": {
      "text/plain": [
       "<zip at 0x7fbbb422ca80>"
      ]
     },
     "execution_count": 2,
     "metadata": {},
     "output_type": "execute_result"
    }
   ],
   "source": [
    "lats=np.random.uniform(-90.000,90.000, size=2000)\n",
    "lngs=np.random.uniform(-180.000,180.000, size=2000)\n",
    "lat_lngs=zip(lats,lngs)\n",
    "lat_lngs"
   ]
  },
  {
   "cell_type": "code",
   "execution_count": 3,
   "metadata": {},
   "outputs": [],
   "source": [
    "coordinates=list(lat_lngs)"
   ]
  },
  {
   "cell_type": "code",
   "execution_count": 4,
   "metadata": {},
   "outputs": [],
   "source": [
    "cities_list=[]\n",
    "for coordinate in coordinates:\n",
    "    city=citipy.nearest_city(coordinate[0],coordinate[1]).city_name\n",
    "    cities_list.append(city)"
   ]
  },
  {
   "cell_type": "code",
   "execution_count": 5,
   "metadata": {},
   "outputs": [],
   "source": [
    "# url=\"http://api.openweathermap.org/data/2.5/weather?\"\n",
    "# query_url= url + \"appid=\" + api_key + \"&q=\" + \"New York\"\n",
    "# resps=requests.get(query_url).json()\n",
    "# weather=resps[\"weather\"][0][\"main\"]\n",
    "# print(weather)"
   ]
  },
  {
   "cell_type": "code",
   "execution_count": 6,
   "metadata": {},
   "outputs": [
    {
     "data": {
      "text/html": [
       "<div>\n",
       "<style scoped>\n",
       "    .dataframe tbody tr th:only-of-type {\n",
       "        vertical-align: middle;\n",
       "    }\n",
       "\n",
       "    .dataframe tbody tr th {\n",
       "        vertical-align: top;\n",
       "    }\n",
       "\n",
       "    .dataframe thead th {\n",
       "        text-align: right;\n",
       "    }\n",
       "</style>\n",
       "<table border=\"1\" class=\"dataframe\">\n",
       "  <thead>\n",
       "    <tr style=\"text-align: right;\">\n",
       "      <th></th>\n",
       "      <th>City</th>\n",
       "      <th>Country</th>\n",
       "      <th>Lat</th>\n",
       "      <th>Lng</th>\n",
       "      <th>Max Temp</th>\n",
       "      <th>Humidity</th>\n",
       "      <th>Cloudiness</th>\n",
       "      <th>Wind Speed</th>\n",
       "      <th>Weather Description</th>\n",
       "    </tr>\n",
       "  </thead>\n",
       "  <tbody>\n",
       "    <tr>\n",
       "      <th>0</th>\n",
       "      <td>Sao Filipe</td>\n",
       "      <td>CV</td>\n",
       "      <td>14.8961</td>\n",
       "      <td>-24.4956</td>\n",
       "      <td>296.62</td>\n",
       "      <td>74</td>\n",
       "      <td>82</td>\n",
       "      <td>3.72</td>\n",
       "      <td>broken clouds</td>\n",
       "    </tr>\n",
       "    <tr>\n",
       "      <th>1</th>\n",
       "      <td>Norman Wells</td>\n",
       "      <td>CA</td>\n",
       "      <td>65.2820</td>\n",
       "      <td>-126.8329</td>\n",
       "      <td>288.88</td>\n",
       "      <td>56</td>\n",
       "      <td>45</td>\n",
       "      <td>3.44</td>\n",
       "      <td>scattered clouds</td>\n",
       "    </tr>\n",
       "    <tr>\n",
       "      <th>2</th>\n",
       "      <td>Carnarvon</td>\n",
       "      <td>AU</td>\n",
       "      <td>-24.8667</td>\n",
       "      <td>113.6333</td>\n",
       "      <td>292.25</td>\n",
       "      <td>67</td>\n",
       "      <td>100</td>\n",
       "      <td>5.69</td>\n",
       "      <td>overcast clouds</td>\n",
       "    </tr>\n",
       "    <tr>\n",
       "      <th>3</th>\n",
       "      <td>Rikitea</td>\n",
       "      <td>PF</td>\n",
       "      <td>-23.1203</td>\n",
       "      <td>-134.9692</td>\n",
       "      <td>293.54</td>\n",
       "      <td>55</td>\n",
       "      <td>0</td>\n",
       "      <td>1.33</td>\n",
       "      <td>clear sky</td>\n",
       "    </tr>\n",
       "    <tr>\n",
       "      <th>4</th>\n",
       "      <td>Bambous Virieux</td>\n",
       "      <td>MU</td>\n",
       "      <td>-20.3428</td>\n",
       "      <td>57.7575</td>\n",
       "      <td>293.27</td>\n",
       "      <td>72</td>\n",
       "      <td>50</td>\n",
       "      <td>4.46</td>\n",
       "      <td>scattered clouds</td>\n",
       "    </tr>\n",
       "  </tbody>\n",
       "</table>\n",
       "</div>"
      ],
      "text/plain": [
       "              City Country      Lat       Lng  Max Temp  Humidity  Cloudiness  \\\n",
       "0       Sao Filipe      CV  14.8961  -24.4956    296.62        74          82   \n",
       "1     Norman Wells      CA  65.2820 -126.8329    288.88        56          45   \n",
       "2        Carnarvon      AU -24.8667  113.6333    292.25        67         100   \n",
       "3          Rikitea      PF -23.1203 -134.9692    293.54        55           0   \n",
       "4  Bambous Virieux      MU -20.3428   57.7575    293.27        72          50   \n",
       "\n",
       "   Wind Speed Weather Description  \n",
       "0        3.72       broken clouds  \n",
       "1        3.44    scattered clouds  \n",
       "2        5.69     overcast clouds  \n",
       "3        1.33           clear sky  \n",
       "4        4.46    scattered clouds  "
      ]
     },
     "execution_count": 6,
     "metadata": {},
     "output_type": "execute_result"
    }
   ],
   "source": [
    "city_data = []\n",
    "for city in cities_list:\n",
    "#     print(city)\n",
    "    url=\"http://api.openweathermap.org/data/2.5/weather?\"\n",
    "    query_url= url + \"appid=\" + api_key + \"&q=\" + city\n",
    "    resps=requests.get(query_url).json()\n",
    "#     print(resps)\n",
    "    try:\n",
    "#         print(resps[\"weather\"][0][\"main\"])\n",
    "        country = resps[\"sys\"][\"country\"]\n",
    "        lat = resps[\"coord\"][\"lat\"]\n",
    "        lng = resps[\"coord\"][\"lon\"]\n",
    "        max_temp = resps[\"main\"][\"temp_max\"]\n",
    "        humidity = resps[\"main\"][\"humidity\"]\n",
    "        clouds = resps[\"clouds\"][\"all\"]\n",
    "        wind = resps[\"wind\"][\"speed\"]\n",
    "        weather_descri=resps[\"weather\"][0][\"description\"]\n",
    "        city_data.append({\"City\": city.title(),\n",
    "                          \"Country\": country,\n",
    "                          \"Lat\": lat,\n",
    "                          \"Lng\": lng,\n",
    "                          \"Max Temp\": max_temp,\n",
    "                          \"Humidity\": humidity,\n",
    "                          \"Cloudiness\": clouds,\n",
    "                          \"Wind Speed\": wind,\n",
    "                          \"Weather Description\": weather_descri\n",
    "                         })       \n",
    "    except KeyError:\n",
    "        pass \n",
    "    \n",
    "    \n",
    "weather_data_df=pd.DataFrame(city_data)\n",
    "weather_data_df.head()"
   ]
  },
  {
   "cell_type": "code",
   "execution_count": 7,
   "metadata": {},
   "outputs": [],
   "source": [
    "output_data_file = \"./Weather_Data.csv\"\n",
    "weather_data_df.to_csv(output_data_file, index_label=\"City_ID\")"
   ]
  },
  {
   "cell_type": "code",
   "execution_count": null,
   "metadata": {},
   "outputs": [],
   "source": []
  },
  {
   "cell_type": "code",
   "execution_count": null,
   "metadata": {},
   "outputs": [],
   "source": []
  },
  {
   "cell_type": "code",
   "execution_count": null,
   "metadata": {},
   "outputs": [],
   "source": []
  },
  {
   "cell_type": "code",
   "execution_count": null,
   "metadata": {},
   "outputs": [],
   "source": []
  },
  {
   "cell_type": "code",
   "execution_count": null,
   "metadata": {},
   "outputs": [],
   "source": []
  },
  {
   "cell_type": "code",
   "execution_count": null,
   "metadata": {},
   "outputs": [],
   "source": []
  }
 ],
 "metadata": {
  "kernelspec": {
   "display_name": "Python 3",
   "language": "python",
   "name": "python3"
  },
  "language_info": {
   "codemirror_mode": {
    "name": "ipython",
    "version": 3
   },
   "file_extension": ".py",
   "mimetype": "text/x-python",
   "name": "python",
   "nbconvert_exporter": "python",
   "pygments_lexer": "ipython3",
   "version": "3.8.5"
  }
 },
 "nbformat": 4,
 "nbformat_minor": 4
}
