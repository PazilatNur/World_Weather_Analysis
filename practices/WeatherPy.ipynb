{
 "cells": [
  {
   "cell_type": "code",
   "execution_count": 1,
   "metadata": {},
   "outputs": [],
   "source": [
    "import pandas as pd\n",
    "import numpy as np\n",
    "import random\n",
    "import timeit\n",
    "import requests\n",
    "from citipy import citipy\n",
    "from config import api_key"
   ]
  },
  {
   "cell_type": "code",
   "execution_count": 2,
   "metadata": {},
   "outputs": [
    {
     "data": {
      "text/plain": [
       "<zip at 0x7fd4398bfc00>"
      ]
     },
     "execution_count": 2,
     "metadata": {},
     "output_type": "execute_result"
    }
   ],
   "source": [
    "lats=np.random.uniform(-90.000,90.000, size=1500)\n",
    "lngs=np.random.uniform(-180.000,180.000, size=1500)\n",
    "lat_lngs=zip(lats,lngs)\n",
    "lat_lngs"
   ]
  },
  {
   "cell_type": "code",
   "execution_count": 3,
   "metadata": {
    "scrolled": true
   },
   "outputs": [
    {
     "data": {
      "text/plain": [
       "1500"
      ]
     },
     "execution_count": 3,
     "metadata": {},
     "output_type": "execute_result"
    }
   ],
   "source": [
    "coordinates = list(lat_lngs)\n",
    "len(coordinates)"
   ]
  },
  {
   "cell_type": "code",
   "execution_count": 4,
   "metadata": {},
   "outputs": [],
   "source": [
    "city=\"London\"\n",
    "url=\"http://api.openweathermap.org/data/2.5/weather?\"\n",
    "query_url= url + \"appid=\" + api_key + \"&q=\" + city"
   ]
  },
  {
   "cell_type": "code",
   "execution_count": 5,
   "metadata": {},
   "outputs": [
    {
     "name": "stdout",
     "output_type": "stream",
     "text": [
      "<Response [200]>\n"
     ]
    },
    {
     "data": {
      "text/plain": [
       "{'coord': {'lon': -0.1257, 'lat': 51.5085},\n",
       " 'weather': [{'id': 800,\n",
       "   'main': 'Clear',\n",
       "   'description': 'clear sky',\n",
       "   'icon': '01n'}],\n",
       " 'base': 'stations',\n",
       " 'main': {'temp': 291.01,\n",
       "  'feels_like': 290.91,\n",
       "  'temp_min': 287.98,\n",
       "  'temp_max': 293.15,\n",
       "  'pressure': 1021,\n",
       "  'humidity': 79},\n",
       " 'visibility': 10000,\n",
       " 'wind': {'speed': 3.6, 'deg': 80},\n",
       " 'clouds': {'all': 5},\n",
       " 'dt': 1626998111,\n",
       " 'sys': {'type': 2,\n",
       "  'id': 2006068,\n",
       "  'country': 'GB',\n",
       "  'sunrise': 1627013473,\n",
       "  'sunset': 1627070545},\n",
       " 'timezone': 3600,\n",
       " 'id': 2643743,\n",
       " 'name': 'London',\n",
       " 'cod': 200}"
      ]
     },
     "execution_count": 5,
     "metadata": {},
     "output_type": "execute_result"
    }
   ],
   "source": [
    "resp= requests.get(query_url)\n",
    "print(resp)\n",
    "resp.json()"
   ]
  },
  {
   "cell_type": "code",
   "execution_count": 6,
   "metadata": {},
   "outputs": [
    {
     "name": "stdout",
     "output_type": "stream",
     "text": [
      "1500\n"
     ]
    }
   ],
   "source": [
    "cities=[]\n",
    "for coordinate in coordinates:\n",
    "    city=citipy.nearest_city(coordinate[0],coordinate[1]).city_name\n",
    "    cities.append(city)\n",
    "print(len(cities))"
   ]
  },
  {
   "cell_type": "code",
   "execution_count": 7,
   "metadata": {
    "scrolled": true
   },
   "outputs": [],
   "source": [
    "# Convert the UTC date to a date format with year, month, day, hours, minutes, and seconds.\n",
    "# from datetime import datetime\n",
    "# datetime.utcfromtimestamp(date).strftime('%Y-%m-%d %H:%M:%S')"
   ]
  },
  {
   "cell_type": "code",
   "execution_count": 8,
   "metadata": {},
   "outputs": [
    {
     "data": {
      "text/html": [
       "<div>\n",
       "<style scoped>\n",
       "    .dataframe tbody tr th:only-of-type {\n",
       "        vertical-align: middle;\n",
       "    }\n",
       "\n",
       "    .dataframe tbody tr th {\n",
       "        vertical-align: top;\n",
       "    }\n",
       "\n",
       "    .dataframe thead th {\n",
       "        text-align: right;\n",
       "    }\n",
       "</style>\n",
       "<table border=\"1\" class=\"dataframe\">\n",
       "  <thead>\n",
       "    <tr style=\"text-align: right;\">\n",
       "      <th></th>\n",
       "      <th>City</th>\n",
       "      <th>Lat</th>\n",
       "      <th>Lng</th>\n",
       "      <th>Max Temp</th>\n",
       "      <th>Humidity</th>\n",
       "      <th>Cloudiness</th>\n",
       "      <th>Wind Speed</th>\n",
       "      <th>Country</th>\n",
       "      <th>Date</th>\n",
       "    </tr>\n",
       "  </thead>\n",
       "  <tbody>\n",
       "    <tr>\n",
       "      <th>0</th>\n",
       "      <td>Petatlan</td>\n",
       "      <td>17.5167</td>\n",
       "      <td>-101.2667</td>\n",
       "      <td>302.54</td>\n",
       "      <td>71</td>\n",
       "      <td>71</td>\n",
       "      <td>1.03</td>\n",
       "      <td>MX</td>\n",
       "      <td>2021-07-22 23:59:37</td>\n",
       "    </tr>\n",
       "    <tr>\n",
       "      <th>1</th>\n",
       "      <td>Vaini</td>\n",
       "      <td>-21.2000</td>\n",
       "      <td>-175.2000</td>\n",
       "      <td>300.24</td>\n",
       "      <td>78</td>\n",
       "      <td>20</td>\n",
       "      <td>3.09</td>\n",
       "      <td>TO</td>\n",
       "      <td>2021-07-22 23:51:36</td>\n",
       "    </tr>\n",
       "    <tr>\n",
       "      <th>2</th>\n",
       "      <td>Cap Malheureux</td>\n",
       "      <td>-19.9842</td>\n",
       "      <td>57.6142</td>\n",
       "      <td>294.42</td>\n",
       "      <td>68</td>\n",
       "      <td>46</td>\n",
       "      <td>1.34</td>\n",
       "      <td>MU</td>\n",
       "      <td>2021-07-22 23:57:43</td>\n",
       "    </tr>\n",
       "    <tr>\n",
       "      <th>3</th>\n",
       "      <td>Mataura</td>\n",
       "      <td>-46.1927</td>\n",
       "      <td>168.8643</td>\n",
       "      <td>281.19</td>\n",
       "      <td>81</td>\n",
       "      <td>12</td>\n",
       "      <td>1.36</td>\n",
       "      <td>NZ</td>\n",
       "      <td>2021-07-22 23:54:34</td>\n",
       "    </tr>\n",
       "    <tr>\n",
       "      <th>4</th>\n",
       "      <td>Punta Arenas</td>\n",
       "      <td>-53.1500</td>\n",
       "      <td>-70.9167</td>\n",
       "      <td>276.21</td>\n",
       "      <td>81</td>\n",
       "      <td>40</td>\n",
       "      <td>2.57</td>\n",
       "      <td>CL</td>\n",
       "      <td>2021-07-22 23:59:38</td>\n",
       "    </tr>\n",
       "    <tr>\n",
       "      <th>5</th>\n",
       "      <td>Thompson</td>\n",
       "      <td>55.7435</td>\n",
       "      <td>-97.8558</td>\n",
       "      <td>300.24</td>\n",
       "      <td>54</td>\n",
       "      <td>40</td>\n",
       "      <td>4.12</td>\n",
       "      <td>CA</td>\n",
       "      <td>2021-07-22 23:55:19</td>\n",
       "    </tr>\n",
       "    <tr>\n",
       "      <th>6</th>\n",
       "      <td>Morgan City</td>\n",
       "      <td>29.6994</td>\n",
       "      <td>-91.2068</td>\n",
       "      <td>304.82</td>\n",
       "      <td>76</td>\n",
       "      <td>23</td>\n",
       "      <td>3.21</td>\n",
       "      <td>US</td>\n",
       "      <td>2021-07-22 23:59:38</td>\n",
       "    </tr>\n",
       "    <tr>\n",
       "      <th>7</th>\n",
       "      <td>Hithadhoo</td>\n",
       "      <td>-0.6000</td>\n",
       "      <td>73.0833</td>\n",
       "      <td>299.63</td>\n",
       "      <td>81</td>\n",
       "      <td>100</td>\n",
       "      <td>4.48</td>\n",
       "      <td>MV</td>\n",
       "      <td>2021-07-22 23:59:38</td>\n",
       "    </tr>\n",
       "    <tr>\n",
       "      <th>8</th>\n",
       "      <td>Rikitea</td>\n",
       "      <td>-23.1203</td>\n",
       "      <td>-134.9692</td>\n",
       "      <td>296.08</td>\n",
       "      <td>73</td>\n",
       "      <td>10</td>\n",
       "      <td>8.25</td>\n",
       "      <td>PF</td>\n",
       "      <td>2021-07-22 23:59:39</td>\n",
       "    </tr>\n",
       "    <tr>\n",
       "      <th>9</th>\n",
       "      <td>Khatanga</td>\n",
       "      <td>71.9667</td>\n",
       "      <td>102.5000</td>\n",
       "      <td>290.09</td>\n",
       "      <td>64</td>\n",
       "      <td>79</td>\n",
       "      <td>4.63</td>\n",
       "      <td>RU</td>\n",
       "      <td>2021-07-22 23:51:17</td>\n",
       "    </tr>\n",
       "  </tbody>\n",
       "</table>\n",
       "</div>"
      ],
      "text/plain": [
       "             City      Lat       Lng  Max Temp  Humidity  Cloudiness  \\\n",
       "0        Petatlan  17.5167 -101.2667    302.54        71          71   \n",
       "1           Vaini -21.2000 -175.2000    300.24        78          20   \n",
       "2  Cap Malheureux -19.9842   57.6142    294.42        68          46   \n",
       "3         Mataura -46.1927  168.8643    281.19        81          12   \n",
       "4    Punta Arenas -53.1500  -70.9167    276.21        81          40   \n",
       "5        Thompson  55.7435  -97.8558    300.24        54          40   \n",
       "6     Morgan City  29.6994  -91.2068    304.82        76          23   \n",
       "7       Hithadhoo  -0.6000   73.0833    299.63        81         100   \n",
       "8         Rikitea -23.1203 -134.9692    296.08        73          10   \n",
       "9        Khatanga  71.9667  102.5000    290.09        64          79   \n",
       "\n",
       "   Wind Speed Country                 Date  \n",
       "0        1.03      MX  2021-07-22 23:59:37  \n",
       "1        3.09      TO  2021-07-22 23:51:36  \n",
       "2        1.34      MU  2021-07-22 23:57:43  \n",
       "3        1.36      NZ  2021-07-22 23:54:34  \n",
       "4        2.57      CL  2021-07-22 23:59:38  \n",
       "5        4.12      CA  2021-07-22 23:55:19  \n",
       "6        3.21      US  2021-07-22 23:59:38  \n",
       "7        4.48      MV  2021-07-22 23:59:38  \n",
       "8        8.25      PF  2021-07-22 23:59:39  \n",
       "9        4.63      RU  2021-07-22 23:51:17  "
      ]
     },
     "execution_count": 8,
     "metadata": {},
     "output_type": "execute_result"
    }
   ],
   "source": [
    "from datetime import datetime\n",
    "city_data = []\n",
    "for city in cities:\n",
    "#     print(city)\n",
    "    url=\"http://api.openweathermap.org/data/2.5/weather?\"\n",
    "    query_url= url + \"appid=\" + api_key + \"&q=\" + city\n",
    "    resps=requests.get(query_url).json()\n",
    "#     print(resps)\n",
    "    try:\n",
    "#         print(resps[\"weather\"][0][\"main\"])\n",
    "        country = resps[\"sys\"][\"country\"]\n",
    "        lat = resps[\"coord\"][\"lat\"]\n",
    "        lng = resps[\"coord\"][\"lon\"]\n",
    "        max_temp = resps[\"main\"][\"temp_max\"]\n",
    "        humidity = resps[\"main\"][\"humidity\"]\n",
    "        clouds = resps[\"clouds\"][\"all\"]\n",
    "        wind = resps[\"wind\"][\"speed\"]\n",
    "        date = resps[\"dt\"]\n",
    "        city_date=datetime.utcfromtimestamp(date).strftime('%Y-%m-%d %H:%M:%S')\n",
    "        city_data.append({\"City\": city.title(),\n",
    "                          \"Lat\": lat,\n",
    "                          \"Lng\": lng,\n",
    "                          \"Max Temp\": max_temp,\n",
    "                          \"Humidity\": humidity,\n",
    "                          \"Cloudiness\": clouds,\n",
    "                          \"Wind Speed\": wind,\n",
    "                          \"Country\": country,\n",
    "                          \"Date\": city_date})       \n",
    "    except KeyError:\n",
    "        pass \n",
    "\n",
    "city_data_df = pd.DataFrame(city_data)\n",
    "city_data_df.head(10)       "
   ]
  },
  {
   "cell_type": "code",
   "execution_count": 9,
   "metadata": {},
   "outputs": [
    {
     "name": "stdout",
     "output_type": "stream",
     "text": [
      "<class 'pandas.core.frame.DataFrame'>\n",
      "RangeIndex: 1356 entries, 0 to 1355\n",
      "Data columns (total 9 columns):\n",
      " #   Column      Non-Null Count  Dtype  \n",
      "---  ------      --------------  -----  \n",
      " 0   City        1356 non-null   object \n",
      " 1   Lat         1356 non-null   float64\n",
      " 2   Lng         1356 non-null   float64\n",
      " 3   Max Temp    1356 non-null   float64\n",
      " 4   Humidity    1356 non-null   int64  \n",
      " 5   Cloudiness  1356 non-null   int64  \n",
      " 6   Wind Speed  1356 non-null   float64\n",
      " 7   Country     1356 non-null   object \n",
      " 8   Date        1356 non-null   object \n",
      "dtypes: float64(4), int64(2), object(3)\n",
      "memory usage: 95.5+ KB\n"
     ]
    }
   ],
   "source": [
    "city_data_df.info()"
   ]
  },
  {
   "cell_type": "code",
   "execution_count": 10,
   "metadata": {},
   "outputs": [
    {
     "data": {
      "text/html": [
       "<div>\n",
       "<style scoped>\n",
       "    .dataframe tbody tr th:only-of-type {\n",
       "        vertical-align: middle;\n",
       "    }\n",
       "\n",
       "    .dataframe tbody tr th {\n",
       "        vertical-align: top;\n",
       "    }\n",
       "\n",
       "    .dataframe thead th {\n",
       "        text-align: right;\n",
       "    }\n",
       "</style>\n",
       "<table border=\"1\" class=\"dataframe\">\n",
       "  <thead>\n",
       "    <tr style=\"text-align: right;\">\n",
       "      <th></th>\n",
       "      <th>City</th>\n",
       "      <th>Country</th>\n",
       "      <th>Date</th>\n",
       "      <th>Lat</th>\n",
       "      <th>Lng</th>\n",
       "      <th>Max Temp</th>\n",
       "      <th>Humidity</th>\n",
       "      <th>Cloudiness</th>\n",
       "      <th>Wind Speed</th>\n",
       "    </tr>\n",
       "  </thead>\n",
       "  <tbody>\n",
       "    <tr>\n",
       "      <th>0</th>\n",
       "      <td>Petatlan</td>\n",
       "      <td>MX</td>\n",
       "      <td>2021-07-22 23:59:37</td>\n",
       "      <td>17.5167</td>\n",
       "      <td>-101.2667</td>\n",
       "      <td>302.54</td>\n",
       "      <td>71</td>\n",
       "      <td>71</td>\n",
       "      <td>1.03</td>\n",
       "    </tr>\n",
       "    <tr>\n",
       "      <th>1</th>\n",
       "      <td>Vaini</td>\n",
       "      <td>TO</td>\n",
       "      <td>2021-07-22 23:51:36</td>\n",
       "      <td>-21.2000</td>\n",
       "      <td>-175.2000</td>\n",
       "      <td>300.24</td>\n",
       "      <td>78</td>\n",
       "      <td>20</td>\n",
       "      <td>3.09</td>\n",
       "    </tr>\n",
       "    <tr>\n",
       "      <th>2</th>\n",
       "      <td>Cap Malheureux</td>\n",
       "      <td>MU</td>\n",
       "      <td>2021-07-22 23:57:43</td>\n",
       "      <td>-19.9842</td>\n",
       "      <td>57.6142</td>\n",
       "      <td>294.42</td>\n",
       "      <td>68</td>\n",
       "      <td>46</td>\n",
       "      <td>1.34</td>\n",
       "    </tr>\n",
       "    <tr>\n",
       "      <th>3</th>\n",
       "      <td>Mataura</td>\n",
       "      <td>NZ</td>\n",
       "      <td>2021-07-22 23:54:34</td>\n",
       "      <td>-46.1927</td>\n",
       "      <td>168.8643</td>\n",
       "      <td>281.19</td>\n",
       "      <td>81</td>\n",
       "      <td>12</td>\n",
       "      <td>1.36</td>\n",
       "    </tr>\n",
       "    <tr>\n",
       "      <th>4</th>\n",
       "      <td>Punta Arenas</td>\n",
       "      <td>CL</td>\n",
       "      <td>2021-07-22 23:59:38</td>\n",
       "      <td>-53.1500</td>\n",
       "      <td>-70.9167</td>\n",
       "      <td>276.21</td>\n",
       "      <td>81</td>\n",
       "      <td>40</td>\n",
       "      <td>2.57</td>\n",
       "    </tr>\n",
       "  </tbody>\n",
       "</table>\n",
       "</div>"
      ],
      "text/plain": [
       "             City Country                 Date      Lat       Lng  Max Temp  \\\n",
       "0        Petatlan      MX  2021-07-22 23:59:37  17.5167 -101.2667    302.54   \n",
       "1           Vaini      TO  2021-07-22 23:51:36 -21.2000 -175.2000    300.24   \n",
       "2  Cap Malheureux      MU  2021-07-22 23:57:43 -19.9842   57.6142    294.42   \n",
       "3         Mataura      NZ  2021-07-22 23:54:34 -46.1927  168.8643    281.19   \n",
       "4    Punta Arenas      CL  2021-07-22 23:59:38 -53.1500  -70.9167    276.21   \n",
       "\n",
       "   Humidity  Cloudiness  Wind Speed  \n",
       "0        71          71        1.03  \n",
       "1        78          20        3.09  \n",
       "2        68          46        1.34  \n",
       "3        81          12        1.36  \n",
       "4        81          40        2.57  "
      ]
     },
     "execution_count": 10,
     "metadata": {},
     "output_type": "execute_result"
    }
   ],
   "source": [
    "new_columns_order=[\"City\",\"Country\",\"Date\",\"Lat\",\"Lng\",\"Max Temp\",\"Humidity\",\"Cloudiness\",\"Wind Speed\"]\n",
    "city_data_df=city_data_df[new_columns_order]\n",
    "city_data_df.head()"
   ]
  },
  {
   "cell_type": "code",
   "execution_count": 28,
   "metadata": {},
   "outputs": [],
   "source": [
    "output_data_file = \"./cities.csv\"\n",
    "city_data_df.to_csv(output_data_file, index_label=\"City_ID\")"
   ]
  },
  {
   "cell_type": "code",
   "execution_count": 12,
   "metadata": {},
   "outputs": [],
   "source": [
    "northern_hemi_df=city_data_df[(city_data_df[\"Lat\"]>=0)]\n",
    "southern_hemi_df=city_data_df[(city_data_df[\"Lat\"]<0)]"
   ]
  },
  {
   "cell_type": "code",
   "execution_count": 13,
   "metadata": {},
   "outputs": [],
   "source": [
    "from scipy.stats import linregress\n",
    "import matplotlib.pyplot as plt\n",
    "def plot_linear_regression(x_values, y_values, title, y_label, text_coordinates):\n",
    "    (slope, intercept, r_value, p_value, std_err) = linregress(x_values, y_values)\n",
    "    regress_values = x_values * slope + intercept\n",
    "    line_eq = \"y = \" + str(round(slope,2)) + \"x + \" + str(round(intercept,2))\n",
    "\n",
    "    plt.scatter(x_values,y_values)\n",
    "    # Plot the regression line with the x-values and the y coordinates based on the intercept and slope.\n",
    "    plt.plot(x_values,regress_values,\"r\")\n",
    "    # Annotate the text for the line equation and add its coordinates.\n",
    "    plt.annotate(line_eq, text_coordinates, fontsize=15, color=\"red\")\n",
    "    plt.title(title)\n",
    "    plt.xlabel('Latitude')\n",
    "    plt.ylabel(y_label)\n",
    "    plt.show()"
   ]
  },
  {
   "cell_type": "code",
   "execution_count": 14,
   "metadata": {},
   "outputs": [
    {
     "data": {
      "image/png": "[encoded data removed]",
      "text/plain": [
       "<Figure size 432x288 with 1 Axes>"
      ]
     },
     "metadata": {
      "needs_background": "light"
     },
     "output_type": "display_data"
    }
   ],
   "source": [
    "x_values=northern_hemi_df[\"Lat\"]\n",
    "y_values = northern_hemi_df[\"Max Temp\"]\n",
    "plot_linear_regression( x_values, y_values, 'Linear Regression on the Northern Hemisphere for Maximum Temperature', \n",
    "                       'Max Temp',(10,280))"
   ]
  },
  {
   "cell_type": "code",
   "execution_count": 15,
   "metadata": {
    "scrolled": true
   },
   "outputs": [
    {
     "data": {
      "image/png": "[encoded data removed]",
      "text/plain": [
       "<Figure size 432x288 with 1 Axes>"
      ]
     },
     "metadata": {
      "needs_background": "light"
     },
     "output_type": "display_data"
    }
   ],
   "source": [
    "x_values=southern_hemi_df[\"Lat\"]\n",
    "y_values = southern_hemi_df[\"Max Temp\"]\n",
    "plot_linear_regression( x_values, y_values, 'Linear Regression on the Southern Hemisphere for Maximum Temperature', \n",
    "                       'Max Temp',(-50,305))"
   ]
  },
  {
   "cell_type": "code",
   "execution_count": 16,
   "metadata": {},
   "outputs": [
    {
     "data": {
      "image/png": "[encoded data removed]",
      "text/plain": [
       "<Figure size 432x288 with 1 Axes>"
      ]
     },
     "metadata": {
      "needs_background": "light"
     },
     "output_type": "display_data"
    }
   ],
   "source": [
    "x_values=northern_hemi_df[\"Lat\"]\n",
    "y_values = northern_hemi_df[\"Humidity\"]\n",
    "plot_linear_regression( x_values, y_values, 'Linear Regression on the Northern Hemisphere for %Humiditye', \n",
    "                       '% Humidity',(45,15))"
   ]
  },
  {
   "cell_type": "code",
   "execution_count": 17,
   "metadata": {},
   "outputs": [
    {
     "data": {
      "image/png": "[encoded data removed]",
      "text/plain": [
       "<Figure size 432x288 with 1 Axes>"
      ]
     },
     "metadata": {
      "needs_background": "light"
     },
     "output_type": "display_data"
    }
   ],
   "source": [
    "x_values=southern_hemi_df[\"Lat\"]\n",
    "y_values = southern_hemi_df[\"Humidity\"]\n",
    "plot_linear_regression( x_values, y_values, 'Linear Regression on the Southern Hemisphere for %Humidity', \n",
    "                       '% Humidity',(-55,16))"
   ]
  },
  {
   "cell_type": "code",
   "execution_count": 18,
   "metadata": {},
   "outputs": [
    {
     "data": {
      "image/png": "[encoded data removed]",
      "text/plain": [
       "<Figure size 432x288 with 1 Axes>"
      ]
     },
     "metadata": {
      "needs_background": "light"
     },
     "output_type": "display_data"
    }
   ],
   "source": [
    "x_values=northern_hemi_df[\"Lat\"]\n",
    "y_values = northern_hemi_df[\"Cloudiness\"]\n",
    "plot_linear_regression( x_values, y_values, 'Linear Regression on the Northern Hemisphere for %Cloudiness', \n",
    "                       'Cloudiness %',(50,30))"
   ]
  },
  {
   "cell_type": "code",
   "execution_count": 25,
   "metadata": {},
   "outputs": [
    {
     "data": {
      "image/png": "[encoded data removed]",
      "text/plain": [
       "<Figure size 432x288 with 1 Axes>"
      ]
     },
     "metadata": {
      "needs_background": "light"
     },
     "output_type": "display_data"
    }
   ],
   "source": [
    "x_values=southern_hemi_df[\"Lat\"]\n",
    "y_values = southern_hemi_df[\"Cloudiness\"]\n",
    "plot_linear_regression( x_values, y_values, 'Linear Regression on the Southern Hemisphere for %Cloudiness', \n",
    "                       'Cloudiness %',(-55,60))"
   ]
  },
  {
   "cell_type": "code",
   "execution_count": 24,
   "metadata": {},
   "outputs": [
    {
     "data": {
      "image/png": "[encoded data removed]",
      "text/plain": [
       "<Figure size 432x288 with 1 Axes>"
      ]
     },
     "metadata": {
      "needs_background": "light"
     },
     "output_type": "display_data"
    }
   ],
   "source": [
    "x_values=northern_hemi_df[\"Lat\"]\n",
    "y_values = northern_hemi_df[\"Wind Speed\"]\n",
    "plot_linear_regression( x_values, y_values, 'Linear Regression on the Northern Hemisphere for Wind Speed', \n",
    "                       'Wind Speed',(30,13))\n"
   ]
  },
  {
   "cell_type": "code",
   "execution_count": 22,
   "metadata": {},
   "outputs": [
    {
     "data": {
      "image/png": "[encoded data removed]",
      "text/plain": [
       "<Figure size 432x288 with 1 Axes>"
      ]
     },
     "metadata": {
      "needs_background": "light"
     },
     "output_type": "display_data"
    }
   ],
   "source": [
    "x_values=southern_hemi_df[\"Lat\"]\n",
    "y_values = southern_hemi_df[\"Wind Speed\"]\n",
    "plot_linear_regression( x_values, y_values, 'Linear Regression on the Southern Hemisphere for Wind Speed', \n",
    "                       'Wind Speed',(-50,10))"
   ]
  },
  {
   "cell_type": "code",
   "execution_count": 43,
   "metadata": {},
   "outputs": [
    {
     "data": {
      "text/html": [
       "<div>\n",
       "<style scoped>\n",
       "    .dataframe tbody tr th:only-of-type {\n",
       "        vertical-align: middle;\n",
       "    }\n",
       "\n",
       "    .dataframe tbody tr th {\n",
       "        vertical-align: top;\n",
       "    }\n",
       "\n",
       "    .dataframe thead th {\n",
       "        text-align: right;\n",
       "    }\n",
       "</style>\n",
       "<table border=\"1\" class=\"dataframe\">\n",
       "  <thead>\n",
       "    <tr style=\"text-align: right;\">\n",
       "      <th></th>\n",
       "      <th>City</th>\n",
       "      <th>Country</th>\n",
       "      <th>Date</th>\n",
       "      <th>Lat</th>\n",
       "      <th>Lng</th>\n",
       "      <th>Max Temp</th>\n",
       "      <th>Humidity</th>\n",
       "      <th>Cloudiness</th>\n",
       "      <th>Wind Speed</th>\n",
       "    </tr>\n",
       "  </thead>\n",
       "  <tbody>\n",
       "    <tr>\n",
       "      <th>0</th>\n",
       "      <td>Petatlan</td>\n",
       "      <td>MX</td>\n",
       "      <td>2021-07-22 23:59:37</td>\n",
       "      <td>17.5167</td>\n",
       "      <td>-101.2667</td>\n",
       "      <td>302.54</td>\n",
       "      <td>71</td>\n",
       "      <td>71</td>\n",
       "      <td>1.03</td>\n",
       "    </tr>\n",
       "    <tr>\n",
       "      <th>1</th>\n",
       "      <td>Vaini</td>\n",
       "      <td>TO</td>\n",
       "      <td>2021-07-22 23:51:36</td>\n",
       "      <td>-21.2000</td>\n",
       "      <td>-175.2000</td>\n",
       "      <td>300.24</td>\n",
       "      <td>78</td>\n",
       "      <td>20</td>\n",
       "      <td>3.09</td>\n",
       "    </tr>\n",
       "    <tr>\n",
       "      <th>2</th>\n",
       "      <td>Cap Malheureux</td>\n",
       "      <td>MU</td>\n",
       "      <td>2021-07-22 23:57:43</td>\n",
       "      <td>-19.9842</td>\n",
       "      <td>57.6142</td>\n",
       "      <td>294.42</td>\n",
       "      <td>68</td>\n",
       "      <td>46</td>\n",
       "      <td>1.34</td>\n",
       "    </tr>\n",
       "    <tr>\n",
       "      <th>3</th>\n",
       "      <td>Mataura</td>\n",
       "      <td>NZ</td>\n",
       "      <td>2021-07-22 23:54:34</td>\n",
       "      <td>-46.1927</td>\n",
       "      <td>168.8643</td>\n",
       "      <td>281.19</td>\n",
       "      <td>81</td>\n",
       "      <td>12</td>\n",
       "      <td>1.36</td>\n",
       "    </tr>\n",
       "    <tr>\n",
       "      <th>4</th>\n",
       "      <td>Punta Arenas</td>\n",
       "      <td>CL</td>\n",
       "      <td>2021-07-22 23:59:38</td>\n",
       "      <td>-53.1500</td>\n",
       "      <td>-70.9167</td>\n",
       "      <td>276.21</td>\n",
       "      <td>81</td>\n",
       "      <td>40</td>\n",
       "      <td>2.57</td>\n",
       "    </tr>\n",
       "  </tbody>\n",
       "</table>\n",
       "</div>"
      ],
      "text/plain": [
       "             City Country                 Date      Lat       Lng  Max Temp  \\\n",
       "0        Petatlan      MX  2021-07-22 23:59:37  17.5167 -101.2667    302.54   \n",
       "1           Vaini      TO  2021-07-22 23:51:36 -21.2000 -175.2000    300.24   \n",
       "2  Cap Malheureux      MU  2021-07-22 23:57:43 -19.9842   57.6142    294.42   \n",
       "3         Mataura      NZ  2021-07-22 23:54:34 -46.1927  168.8643    281.19   \n",
       "4    Punta Arenas      CL  2021-07-22 23:59:38 -53.1500  -70.9167    276.21   \n",
       "\n",
       "   Humidity  Cloudiness  Wind Speed  \n",
       "0        71          71        1.03  \n",
       "1        78          20        3.09  \n",
       "2        68          46        1.34  \n",
       "3        81          12        1.36  \n",
       "4        81          40        2.57  "
      ]
     },
     "execution_count": 43,
     "metadata": {},
     "output_type": "execute_result"
    }
   ],
   "source": [
    "city_data_df.head()"
   ]
  },
  {
   "cell_type": "code",
   "execution_count": 46,
   "metadata": {},
   "outputs": [
    {
     "name": "stdout",
     "output_type": "stream",
     "text": [
      "What min temp you'd like?300\n",
      "What max temp you'd like?320\n"
     ]
    }
   ],
   "source": [
    "min_temp= float(input(\"What min temp you'd like?\"))\n",
    "max_temp= float(input(\"What max temp you'd like?\"))"
   ]
  },
  {
   "cell_type": "code",
   "execution_count": 49,
   "metadata": {},
   "outputs": [
    {
     "data": {
      "text/html": [
       "<div>\n",
       "<style scoped>\n",
       "    .dataframe tbody tr th:only-of-type {\n",
       "        vertical-align: middle;\n",
       "    }\n",
       "\n",
       "    .dataframe tbody tr th {\n",
       "        vertical-align: top;\n",
       "    }\n",
       "\n",
       "    .dataframe thead th {\n",
       "        text-align: right;\n",
       "    }\n",
       "</style>\n",
       "<table border=\"1\" class=\"dataframe\">\n",
       "  <thead>\n",
       "    <tr style=\"text-align: right;\">\n",
       "      <th></th>\n",
       "      <th>City</th>\n",
       "      <th>Country</th>\n",
       "      <th>Date</th>\n",
       "      <th>Lat</th>\n",
       "      <th>Lng</th>\n",
       "      <th>Max Temp</th>\n",
       "      <th>Humidity</th>\n",
       "      <th>Cloudiness</th>\n",
       "      <th>Wind Speed</th>\n",
       "    </tr>\n",
       "  </thead>\n",
       "  <tbody>\n",
       "    <tr>\n",
       "      <th>0</th>\n",
       "      <td>Petatlan</td>\n",
       "      <td>MX</td>\n",
       "      <td>2021-07-22 23:59:37</td>\n",
       "      <td>17.5167</td>\n",
       "      <td>-101.2667</td>\n",
       "      <td>302.54</td>\n",
       "      <td>71</td>\n",
       "      <td>71</td>\n",
       "      <td>1.03</td>\n",
       "    </tr>\n",
       "    <tr>\n",
       "      <th>1</th>\n",
       "      <td>Vaini</td>\n",
       "      <td>TO</td>\n",
       "      <td>2021-07-22 23:51:36</td>\n",
       "      <td>-21.2000</td>\n",
       "      <td>-175.2000</td>\n",
       "      <td>300.24</td>\n",
       "      <td>78</td>\n",
       "      <td>20</td>\n",
       "      <td>3.09</td>\n",
       "    </tr>\n",
       "    <tr>\n",
       "      <th>5</th>\n",
       "      <td>Thompson</td>\n",
       "      <td>CA</td>\n",
       "      <td>2021-07-22 23:55:19</td>\n",
       "      <td>55.7435</td>\n",
       "      <td>-97.8558</td>\n",
       "      <td>300.24</td>\n",
       "      <td>54</td>\n",
       "      <td>40</td>\n",
       "      <td>4.12</td>\n",
       "    </tr>\n",
       "    <tr>\n",
       "      <th>6</th>\n",
       "      <td>Morgan City</td>\n",
       "      <td>US</td>\n",
       "      <td>2021-07-22 23:59:38</td>\n",
       "      <td>29.6994</td>\n",
       "      <td>-91.2068</td>\n",
       "      <td>304.82</td>\n",
       "      <td>76</td>\n",
       "      <td>23</td>\n",
       "      <td>3.21</td>\n",
       "    </tr>\n",
       "    <tr>\n",
       "      <th>17</th>\n",
       "      <td>Avarua</td>\n",
       "      <td>CK</td>\n",
       "      <td>2021-07-22 23:52:03</td>\n",
       "      <td>-21.2078</td>\n",
       "      <td>-159.7750</td>\n",
       "      <td>300.18</td>\n",
       "      <td>74</td>\n",
       "      <td>75</td>\n",
       "      <td>5.66</td>\n",
       "    </tr>\n",
       "  </tbody>\n",
       "</table>\n",
       "</div>"
      ],
      "text/plain": [
       "           City Country                 Date      Lat       Lng  Max Temp  \\\n",
       "0      Petatlan      MX  2021-07-22 23:59:37  17.5167 -101.2667    302.54   \n",
       "1         Vaini      TO  2021-07-22 23:51:36 -21.2000 -175.2000    300.24   \n",
       "5      Thompson      CA  2021-07-22 23:55:19  55.7435  -97.8558    300.24   \n",
       "6   Morgan City      US  2021-07-22 23:59:38  29.6994  -91.2068    304.82   \n",
       "17       Avarua      CK  2021-07-22 23:52:03 -21.2078 -159.7750    300.18   \n",
       "\n",
       "    Humidity  Cloudiness  Wind Speed  \n",
       "0         71          71        1.03  \n",
       "1         78          20        3.09  \n",
       "5         54          40        4.12  \n",
       "6         76          23        3.21  \n",
       "17        74          75        5.66  "
      ]
     },
     "execution_count": 49,
     "metadata": {},
     "output_type": "execute_result"
    }
   ],
   "source": [
    "prefered_city = city_data_df.loc[(city_data_df[\"Max Temp\"]> min_temp) & (city_data_df[\"Max Temp\"]< max_temp)]\n",
    "prefered_city.head()"
   ]
  },
  {
   "cell_type": "code",
   "execution_count": 52,
   "metadata": {},
   "outputs": [],
   "source": [
    "import gmaps\n",
    "from config import g_key\n"
   ]
  },
  {
   "cell_type": "code",
   "execution_count": 58,
   "metadata": {},
   "outputs": [
    {
     "data": {
      "text/html": [
       "<div>\n",
       "<style scoped>\n",
       "    .dataframe tbody tr th:only-of-type {\n",
       "        vertical-align: middle;\n",
       "    }\n",
       "\n",
       "    .dataframe tbody tr th {\n",
       "        vertical-align: top;\n",
       "    }\n",
       "\n",
       "    .dataframe thead th {\n",
       "        text-align: right;\n",
       "    }\n",
       "</style>\n",
       "<table border=\"1\" class=\"dataframe\">\n",
       "  <thead>\n",
       "    <tr style=\"text-align: right;\">\n",
       "      <th></th>\n",
       "      <th>City</th>\n",
       "      <th>Country</th>\n",
       "      <th>Date</th>\n",
       "      <th>Lat</th>\n",
       "      <th>Lng</th>\n",
       "      <th>Max Temp</th>\n",
       "      <th>Humidity</th>\n",
       "      <th>Cloudiness</th>\n",
       "      <th>Wind Speed</th>\n",
       "      <th>Hotel Name</th>\n",
       "    </tr>\n",
       "  </thead>\n",
       "  <tbody>\n",
       "    <tr>\n",
       "      <th>0</th>\n",
       "      <td>Petatlan</td>\n",
       "      <td>MX</td>\n",
       "      <td>2021-07-22 23:59:37</td>\n",
       "      <td>17.5167</td>\n",
       "      <td>-101.2667</td>\n",
       "      <td>302.54</td>\n",
       "      <td>71</td>\n",
       "      <td>71</td>\n",
       "      <td>1.03</td>\n",
       "      <td></td>\n",
       "    </tr>\n",
       "    <tr>\n",
       "      <th>1</th>\n",
       "      <td>Vaini</td>\n",
       "      <td>TO</td>\n",
       "      <td>2021-07-22 23:51:36</td>\n",
       "      <td>-21.2000</td>\n",
       "      <td>-175.2000</td>\n",
       "      <td>300.24</td>\n",
       "      <td>78</td>\n",
       "      <td>20</td>\n",
       "      <td>3.09</td>\n",
       "      <td></td>\n",
       "    </tr>\n",
       "    <tr>\n",
       "      <th>5</th>\n",
       "      <td>Thompson</td>\n",
       "      <td>CA</td>\n",
       "      <td>2021-07-22 23:55:19</td>\n",
       "      <td>55.7435</td>\n",
       "      <td>-97.8558</td>\n",
       "      <td>300.24</td>\n",
       "      <td>54</td>\n",
       "      <td>40</td>\n",
       "      <td>4.12</td>\n",
       "      <td></td>\n",
       "    </tr>\n",
       "    <tr>\n",
       "      <th>6</th>\n",
       "      <td>Morgan City</td>\n",
       "      <td>US</td>\n",
       "      <td>2021-07-22 23:59:38</td>\n",
       "      <td>29.6994</td>\n",
       "      <td>-91.2068</td>\n",
       "      <td>304.82</td>\n",
       "      <td>76</td>\n",
       "      <td>23</td>\n",
       "      <td>3.21</td>\n",
       "      <td></td>\n",
       "    </tr>\n",
       "    <tr>\n",
       "      <th>17</th>\n",
       "      <td>Avarua</td>\n",
       "      <td>CK</td>\n",
       "      <td>2021-07-22 23:52:03</td>\n",
       "      <td>-21.2078</td>\n",
       "      <td>-159.7750</td>\n",
       "      <td>300.18</td>\n",
       "      <td>74</td>\n",
       "      <td>75</td>\n",
       "      <td>5.66</td>\n",
       "      <td></td>\n",
       "    </tr>\n",
       "  </tbody>\n",
       "</table>\n",
       "</div>"
      ],
      "text/plain": [
       "           City Country                 Date      Lat       Lng  Max Temp  \\\n",
       "0      Petatlan      MX  2021-07-22 23:59:37  17.5167 -101.2667    302.54   \n",
       "1         Vaini      TO  2021-07-22 23:51:36 -21.2000 -175.2000    300.24   \n",
       "5      Thompson      CA  2021-07-22 23:55:19  55.7435  -97.8558    300.24   \n",
       "6   Morgan City      US  2021-07-22 23:59:38  29.6994  -91.2068    304.82   \n",
       "17       Avarua      CK  2021-07-22 23:52:03 -21.2078 -159.7750    300.18   \n",
       "\n",
       "    Humidity  Cloudiness  Wind Speed Hotel Name  \n",
       "0         71          71        1.03             \n",
       "1         78          20        3.09             \n",
       "5         54          40        4.12             \n",
       "6         76          23        3.21             \n",
       "17        74          75        5.66             "
      ]
     },
     "execution_count": 58,
     "metadata": {},
     "output_type": "execute_result"
    }
   ],
   "source": [
    "hotel_df=prefered_city.copy()\n",
    "hotel_df[\"Hotel Name\"]=\"\"\n",
    "hotel_df.head()"
   ]
  },
  {
   "cell_type": "code",
   "execution_count": 61,
   "metadata": {},
   "outputs": [
    {
     "data": {
      "text/plain": [
       "-101.2667"
      ]
     },
     "execution_count": 61,
     "metadata": {},
     "output_type": "execute_result"
    }
   ],
   "source": [
    "hotel_df[\"Lng\"][0]"
   ]
  },
  {
   "cell_type": "code",
   "execution_count": 69,
   "metadata": {},
   "outputs": [],
   "source": [
    "# base_url= \"https://maps.googleapis.com/maps/api/place/nearbysearch/json\"\n",
    "# params= {\n",
    "#     \"radius\": 5000,\n",
    "#     \"type\": \"lodging\",\n",
    "#     \"key\": g_key,\n",
    "#     \"location\": \"17.5167,-101.2667\"\n",
    "# }\n",
    "\n",
    "# hotels=requests.get(base_url,params=params).json()\n",
    "# print(hotels)"
   ]
  },
  {
   "cell_type": "code",
   "execution_count": 67,
   "metadata": {},
   "outputs": [
    {
     "data": {
      "text/plain": [
       "3"
      ]
     },
     "execution_count": 67,
     "metadata": {},
     "output_type": "execute_result"
    }
   ],
   "source": [
    "len(hotels)"
   ]
  },
  {
   "cell_type": "code",
   "execution_count": 74,
   "metadata": {},
   "outputs": [],
   "source": [
    "for index, row in hotel_df.iterrows():\n",
    "    lat=hotel_df[\"Lat\"]\n",
    "    lng=hotel_df[\"Lng\"]\n",
    "    base_url= \"https://maps.googleapis.com/maps/api/place/nearbysearch/json\"\n",
    "    params= {\n",
    "        \"radius\": 5000,\n",
    "        \"type\": \"lodging\",\n",
    "        \"key\": g_key,\n",
    "        \"location\": f\"{lat},{lng}\"\n",
    "    }\n",
    "    hotels=requests.get(base_url,params=params).json()\n",
    "    try:\n",
    "        hotel_df.loc[index, \"Hotel Name\"]=hotels[\"results\"][0][\"name\"]\n",
    "    except (IndexError):\n",
    "        pass"
   ]
  },
  {
   "cell_type": "code",
   "execution_count": 76,
   "metadata": {},
   "outputs": [
    {
     "data": {
      "text/plain": [
       "{'html_attributions': [], 'results': [], 'status': 'INVALID_REQUEST'}"
      ]
     },
     "execution_count": 76,
     "metadata": {},
     "output_type": "execute_result"
    }
   ],
   "source": [
    "hotels"
   ]
  }
 ],
 "metadata": {
  "kernelspec": {
   "display_name": "pydate",
   "language": "python",
   "name": "pydate"
  },
  "language_info": {
   "codemirror_mode": {
    "name": "ipython",
    "version": 3
   },
   "file_extension": ".py",
   "mimetype": "text/x-python",
   "name": "python",
   "nbconvert_exporter": "python",
   "pygments_lexer": "ipython3",
   "version": "3.8.10"
  }
 },
 "nbformat": 4,
 "nbformat_minor": 4
}
